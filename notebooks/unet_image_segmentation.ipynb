{
  "cells": [
    {
      "cell_type": "code",
      "execution_count": null,
      "metadata": {
        "id": "ND1mkyDV9b74"
      },
      "outputs": [],
      "source": [
        "import torch\n",
        "import torch.nn as nn\n",
        "from torchvision import datasets\n",
        "from torch.utils.data import DataLoader, Dataset\n",
        "import matplotlib.pyplot as plt\n",
        "from matplotlib.patches import Rectangle\n",
        "import torchvision.transforms as transforms\n",
        "from torchvision import models\n"
      ]
    },
    {
      "cell_type": "code",
      "execution_count": null,
      "metadata": {
        "id": "8UiJc4lnj9z7"
      },
      "outputs": [],
      "source": [
        "device = \"cuda\" if torch.cuda.is_available() else \"cpu\""
      ]
    },
    {
      "cell_type": "code",
      "execution_count": null,
      "metadata": {
        "id": "gzBXV-FLNhTf"
      },
      "outputs": [],
      "source": [
        "class trimap_to_labels():\n",
        "    '''\n",
        "    sample is a tensor of integers with the shape (1, height, width)\n",
        "    '''\n",
        "\n",
        "    def __call__(self, sample):\n",
        "        _, height, width = sample.size()\n",
        "        output = torch.zeros(3, height, width)\n",
        "        # output += torch.eq(sample,1)*1.0 ##If the pixel is in the foreground, it is set to 1.0\n",
        "        # output += torch.eq(sample,3)*0.5 ##If the pixel is in between foreground and background, it is set to 0.5\n",
        "        # output += torch.eq(sample,2)*0.0 ##If the pixel is in the background, it is set to 0.0\n",
        "        output[0] = torch.eq(sample, 1)\n",
        "        output[1] = torch.eq(sample, 2)\n",
        "        output[2] = torch.eq(sample, 3)\n",
        "\n",
        "        return output\n"
      ]
    },
    {
      "cell_type": "code",
      "execution_count": null,
      "metadata": {
        "id": "-jAVjuWF9ywp"
      },
      "outputs": [],
      "source": [
        "transform = transforms.Compose(\n",
        "    [\n",
        "        transforms.ToTensor(),\n",
        "        transforms.Resize((128, 128),antialias=True),\n",
        "    ]\n",
        ")\n",
        "target_transform = transforms.Compose(\n",
        "    [\n",
        "        transforms.PILToTensor(),\n",
        "        transforms.Resize((128, 128),antialias=True),\n",
        "        trimap_to_labels(),\n",
        "    ]\n",
        ")\n",
        "\n",
        "training_data = datasets.OxfordIIITPet(\"../data\", \"trainval\", transform=transform,\n",
        "                                       download=True, target_types=\"segmentation\", target_transform=target_transform)\n"
      ]
    },
    {
      "cell_type": "code",
      "execution_count": null,
      "metadata": {
        "id": "umY-tMkE-bAl"
      },
      "outputs": [],
      "source": [
        "index = 10\n",
        "plt.imshow(training_data[index][0].movedim(0, 2))\n",
        "plt.imshow(training_data[index][1].movedim(0, 2), alpha=0.5)\n"
      ]
    },
    {
      "cell_type": "code",
      "execution_count": null,
      "metadata": {
        "id": "NUoQP2YAlBhT"
      },
      "outputs": [],
      "source": [
        "class UNet(nn.Module):\n",
        "    def __init__(self):\n",
        "        super().__init__()\n",
        "        self.encoder_blocks = nn.ModuleList([\n",
        "            nn.Sequential(\n",
        "                nn.Conv2d(3, 64, 3, padding=1),\n",
        "                nn.ReLU(),\n",
        "                nn.Conv2d(64, 64, 3, padding=1),\n",
        "                nn.ReLU(),\n",
        "            ),\n",
        "            nn.Sequential(\n",
        "                nn.Conv2d(64, 128, 3, padding=1),\n",
        "                nn.ReLU(),\n",
        "                nn.Conv2d(128, 128, 3, padding=1),\n",
        "                nn.ReLU(),\n",
        "            ),\n",
        "            nn.Sequential(\n",
        "                nn.Conv2d(128, 256, 3, padding=1),\n",
        "                nn.ReLU(),\n",
        "                nn.Conv2d(256, 256, 3, padding=1),\n",
        "                nn.ReLU(),\n",
        "            ),\n",
        "            nn.Sequential(\n",
        "                nn.Conv2d(256, 512, 3, padding=1),\n",
        "                nn.ReLU(),\n",
        "                nn.Conv2d(512, 512, 3, padding=1),\n",
        "                nn.ReLU(),\n",
        "            ),\n",
        "        ])\n",
        "\n",
        "        self.decoder_blocks = nn.ModuleList([\n",
        "            nn.Sequential(\n",
        "                nn.Conv2d(1024, 512, 3, padding=1),\n",
        "                nn.ReLU(),\n",
        "                nn.Conv2d(512, 512, 3, padding=1),\n",
        "                nn.ReLU(),\n",
        "            ),\n",
        "            nn.Sequential(\n",
        "                nn.Conv2d(512, 256, 3, padding=1),\n",
        "                nn.ReLU(),\n",
        "                nn.Conv2d(256, 256, 3, padding=1),\n",
        "                nn.ReLU(),\n",
        "            ),\n",
        "            nn.Sequential(\n",
        "                nn.Conv2d(256, 128, 3, padding=1),\n",
        "                nn.ReLU(),\n",
        "                nn.Conv2d(128, 128, 3, padding=1),\n",
        "                nn.ReLU(),\n",
        "            ),\n",
        "            nn.Sequential(\n",
        "                nn.Conv2d(128, 64, 3, padding=1),\n",
        "                nn.ReLU(),\n",
        "                nn.Conv2d(64, 3, 3, padding=1),\n",
        "                nn.ReLU(),\n",
        "            ),\n",
        "\n",
        "        ])\n",
        "\n",
        "        self.latent_block = nn.Sequential(\n",
        "            nn.Conv2d(512, 1024, 3, padding=1),\n",
        "            nn.ReLU(),\n",
        "            nn.Conv2d(1024, 1024, 3, padding=1),\n",
        "            nn.ReLU(),\n",
        "        )\n",
        "\n",
        "        self.pooling = nn.MaxPool2d(2, 2)\n",
        "        self.up_convolutions = nn.ModuleList([\n",
        "            nn.ConvTranspose2d(1024, 512, 2, 2),\n",
        "            nn.ConvTranspose2d(512, 256, 2, 2),\n",
        "            nn.ConvTranspose2d(256, 128, 2, 2),\n",
        "            nn.ConvTranspose2d(128, 64, 2, 2),\n",
        "        ])\n",
        "        self.final_activation = nn.Softmax(1)\n",
        "\n",
        "    def forward(self, X):\n",
        "        num_blocks = len(self.encoder_blocks)\n",
        "        encoder_outputs = [None]*num_blocks\n",
        "\n",
        "        # left side of the U, pooling the network down\n",
        "        X = self.encoder_blocks[0](X)\n",
        "        encoder_outputs[0] = X\n",
        "        X = self.pooling(X)\n",
        "\n",
        "        for block_index in range(1, num_blocks):\n",
        "            X = self.encoder_blocks[block_index](X)\n",
        "            encoder_outputs[block_index] = X\n",
        "            X = self.pooling(X)\n",
        "\n",
        "        # bottom of the U\n",
        "        X = self.latent_block(X)\n",
        "\n",
        "        # right side of the U using ConvTranspose2d to upsample\n",
        "        for block_index in range(num_blocks):\n",
        "            X = self.up_convolutions[block_index](X)\n",
        "            X = torch.cat((X, encoder_outputs[num_blocks-block_index-1]), 1)\n",
        "            X = self.decoder_blocks[block_index](X)\n",
        "\n",
        "        X = self.final_activation(X)\n",
        "        return X\n"
      ]
    },
    {
      "cell_type": "code",
      "execution_count": null,
      "metadata": {
        "id": "oJpeugpAY-1_"
      },
      "outputs": [],
      "source": [
        "model = UNet().to(device)\n"
      ]
    },
    {
      "cell_type": "code",
      "execution_count": null,
      "metadata": {
        "id": "q-Q4JSQZhNAI"
      },
      "outputs": [],
      "source": [
        "pytorch_total_params = sum(p.numel()\n",
        "                           for p in model.parameters() if p.requires_grad)\n",
        "print(pytorch_total_params)\n"
      ]
    },
    {
      "cell_type": "code",
      "execution_count": null,
      "metadata": {
        "id": "xvXgtu0nZicY"
      },
      "outputs": [],
      "source": [
        "with torch.no_grad():\n",
        "    index = torch.randint(len(training_data),(1,)).item()\n",
        "\n",
        "    model_output = model(training_data[index][0].unsqueeze(\n",
        "        0).to(device)).squeeze().cpu()\n",
        "\n",
        "    fig = plt.figure(figsize=(8, 8))\n",
        "    fig.add_subplot(4, 4, 1)\n",
        "    plt.imshow(training_data[index][0].movedim(0, 2))\n",
        "    plt.axis(\"off\")\n",
        "    plt.title(\"image\")\n",
        "\n",
        "    fig.add_subplot(4, 4, 2)\n",
        "    plt.imshow(training_data[index][1].movedim(0, 2))\n",
        "    plt.axis(\"off\")\n",
        "    plt.title(\"mask\")\n",
        "\n",
        "    fig.add_subplot(4, 4, 3)\n",
        "    plt.imshow((training_data[index][0]*(training_data[index]\n",
        "               [1][0]+0.5*training_data[index][1][2])).movedim(0, 2))\n",
        "    plt.axis(\"off\")\n",
        "    plt.title(\"masked\")\n",
        "\n",
        "    fig.add_subplot(4, 4, 4)\n",
        "    plt.imshow(model_output.movedim(0, 2))\n",
        "    plt.axis(\"off\")\n",
        "    plt.title(\"model output\")\n",
        "\n",
        "    fig.add_subplot(4, 4, 5)\n",
        "    plt.imshow((training_data[index][0]*(model_output.round()\n",
        "               [0]+0.5*model_output.round()[2])).movedim(0, 2))\n",
        "    plt.axis(\"off\")\n",
        "    plt.title(\"model masked\")\n",
        "\n",
        "    plt.show()\n"
      ]
    },
    {
      "cell_type": "code",
      "execution_count": null,
      "metadata": {
        "id": "lPuOmvdydnoJ"
      },
      "outputs": [],
      "source": [
        "training_loader = DataLoader(training_data, batch_size=32, shuffle=True)\n"
      ]
    },
    {
      "cell_type": "code",
      "execution_count": null,
      "metadata": {
        "id": "DzfdDI8HeTHf"
      },
      "outputs": [],
      "source": [
        "\n",
        "model.to(device)\n"
      ]
    },
    {
      "cell_type": "code",
      "execution_count": null,
      "metadata": {
        "id": "YXkGiF2QVomF"
      },
      "outputs": [],
      "source": [
        "loss_fn = nn.MSELoss()\n",
        "optimizer = torch.optim.Adam(model.parameters(), lr=0.0001)\n"
      ]
    },
    {
      "cell_type": "code",
      "execution_count": null,
      "metadata": {
        "id": "gljlXmrAeQrr"
      },
      "outputs": [],
      "source": [
        "for epoch in range(10):\n",
        "    running_loss = 0.0\n",
        "    for batch_number, (inputs, labels) in enumerate(training_loader):\n",
        "        optimizer.zero_grad()\n",
        "        inputs = inputs.to(device)\n",
        "        labels = labels.to(device).movedim(1, 3)\n",
        "        outputs = model(inputs).movedim(1, 3)\n",
        "        loss = loss_fn(outputs, labels)\n",
        "        loss.backward()\n",
        "        optimizer.step()\n",
        "        running_loss += loss.item()\n",
        "        if batch_number % 10 == 9:    # print every 10 mini-batches\n",
        "            print('[%d, %5d] loss: %.7f' %\n",
        "                  (epoch + 1, batch_number + 1, running_loss / 10))\n",
        "            running_loss = 0.0\n"
      ]
    },
    {
      "cell_type": "code",
      "execution_count": null,
      "metadata": {},
      "outputs": [],
      "source": [
        "with torch.no_grad():\n",
        "    index = torch.randint(len(training_data),(1,)).item()\n",
        "\n",
        "    model_output = model(training_data[index][0].unsqueeze(\n",
        "        0).to(device)).squeeze().cpu()\n",
        "\n",
        "    fig = plt.figure(figsize=(8, 8))\n",
        "    fig.add_subplot(4, 4, 1)\n",
        "    plt.imshow(training_data[index][0].movedim(0, 2))\n",
        "    plt.axis(\"off\")\n",
        "    plt.title(\"image\")\n",
        "\n",
        "    fig.add_subplot(4, 4, 2)\n",
        "    plt.imshow(training_data[index][1].movedim(0, 2))\n",
        "    plt.axis(\"off\")\n",
        "    plt.title(\"mask\")\n",
        "\n",
        "    fig.add_subplot(4, 4, 3)\n",
        "    plt.imshow((training_data[index][0]*(training_data[index]\n",
        "               [1][0]+0.5*training_data[index][1][2])).movedim(0, 2))\n",
        "    plt.axis(\"off\")\n",
        "    plt.title(\"masked\")\n",
        "\n",
        "    fig.add_subplot(4, 4, 4)\n",
        "    plt.imshow(model_output.movedim(0, 2))\n",
        "    plt.axis(\"off\")\n",
        "    plt.title(\"model output\")\n",
        "\n",
        "    fig.add_subplot(4, 4, 5)\n",
        "    plt.imshow((training_data[index][0]*(model_output.round()\n",
        "               [0]+0.5*model_output.round()[2])).movedim(0, 2))\n",
        "    plt.axis(\"off\")\n",
        "    plt.title(\"model masked\")\n",
        "\n",
        "    plt.show()"
      ]
    }
  ],
  "metadata": {
    "accelerator": "GPU",
    "colab": {
      "gpuType": "T4",
      "provenance": []
    },
    "gpuClass": "standard",
    "kernelspec": {
      "display_name": "Python 3",
      "name": "python3"
    },
    "language_info": {
      "codemirror_mode": {
        "name": "ipython",
        "version": 3
      },
      "file_extension": ".py",
      "mimetype": "text/x-python",
      "name": "python",
      "nbconvert_exporter": "python",
      "pygments_lexer": "ipython3",
      "version": "3.10.11"
    }
  },
  "nbformat": 4,
  "nbformat_minor": 0
}
