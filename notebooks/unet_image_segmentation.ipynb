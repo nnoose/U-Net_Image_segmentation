{
  "nbformat": 4,
  "nbformat_minor": 0,
  "metadata": {
    "colab": {
      "provenance": [],
      "gpuType": "T4"
    },
    "kernelspec": {
      "name": "python3",
      "display_name": "Python 3"
    },
    "language_info": {
      "name": "python"
    },
    "accelerator": "GPU",
    "gpuClass": "standard"
  },
  "cells": [
    {
      "cell_type": "code",
      "execution_count": null,
      "metadata": {
        "id": "ND1mkyDV9b74"
      },
      "outputs": [],
      "source": [
        "import torch\n",
        "import torch.nn as nn\n",
        "from torchvision import datasets\n",
        "from torch.utils.data import DataLoader, Dataset\n",
        "import matplotlib.pyplot as plt\n",
        "from matplotlib.patches import Rectangle\n",
        "import torchvision.transforms as transforms\n",
        "from torchvision import models"
      ]
    },
    {
      "cell_type": "code",
      "source": [
        "device = \"cuda\" if torch.cuda.is_available() else \"cpu\""
      ],
      "metadata": {
        "id": "8UiJc4lnj9z7"
      },
      "execution_count": null,
      "outputs": []
    },
    {
      "cell_type": "code",
      "source": [
        "class trimap_to_labels():\n",
        "  '''\n",
        "  sample is a tensor of integers with the shape (1, height, width)\n",
        "  '''\n",
        "\n",
        "  def __call__(self, sample):\n",
        "    _, height, width = sample.size()\n",
        "    output = torch.zeros(3,height,width)\n",
        "    # output += torch.eq(sample,1)*1.0 ##If the pixel is in the foreground, it is set to 1.0\n",
        "    # output += torch.eq(sample,3)*0.5 ##If the pixel is in between foreground and background, it is set to 0.5\n",
        "    # output += torch.eq(sample,2)*0.0 ##If the pixel is in the background, it is set to 0.0\n",
        "    output[0] = torch.eq(sample,1)\n",
        "    output[1] = torch.eq(sample,2)\n",
        "    output[2] = torch.eq(sample,3)\n",
        "\n",
        "    return output\n"
      ],
      "metadata": {
        "id": "gzBXV-FLNhTf"
      },
      "execution_count": null,
      "outputs": []
    },
    {
      "cell_type": "code",
      "source": [
        "transform = transforms.Compose(\n",
        "    [\n",
        "      transforms.ToTensor(),\n",
        "      transforms.Resize((128,128)),\n",
        "    ]\n",
        ")\n",
        "target_transform = transforms.Compose(\n",
        "    [\n",
        "      transforms.PILToTensor(),\n",
        "      transforms.Resize((128,128)),\n",
        "      trimap_to_labels(),\n",
        "    ]\n",
        ")\n",
        "\n",
        "training_data=datasets.OxfordIIITPet(\"data\",\"trainval\",transform=transform,download=True,target_types=\"segmentation\",target_transform = target_transform)\n"
      ],
      "metadata": {
        "id": "-jAVjuWF9ywp"
      },
      "execution_count": null,
      "outputs": []
    },
    {
      "cell_type": "code",
      "source": [
        "index = 10\n",
        "plt.imshow(training_data[index][0].movedim(0,2))\n",
        "plt.imshow(training_data[index][1].movedim(0,2), alpha = 0.5)\n"
      ],
      "metadata": {
        "id": "umY-tMkE-bAl"
      },
      "execution_count": null,
      "outputs": []
    },
    {
      "cell_type": "code",
      "source": [
        "class UNet(nn.Module):\n",
        "  def __init__(self):\n",
        "    super().__init__()\n",
        "    self.encoder_blocks = nn.ModuleList([\n",
        "      nn.Sequential(\n",
        "        nn.Conv2d(3,64,3,padding = 1),\n",
        "        nn.ReLU(),\n",
        "        nn.Conv2d(64,64,3,padding = 1),\n",
        "        nn.ReLU(),\n",
        "      ),\n",
        "      nn.Sequential(\n",
        "        nn.Conv2d(64,128,3,padding = 1),\n",
        "        nn.ReLU(),\n",
        "        nn.Conv2d(128,128,3,padding = 1),\n",
        "        nn.ReLU(),\n",
        "      ),\n",
        "      nn.Sequential(\n",
        "        nn.Conv2d(128,256,3,padding = 1),\n",
        "        nn.ReLU(),\n",
        "        nn.Conv2d(256,256,3,padding = 1),\n",
        "        nn.ReLU(),\n",
        "      ),\n",
        "      nn.Sequential(\n",
        "        nn.Conv2d(256,512,3,padding = 1),\n",
        "        nn.ReLU(),\n",
        "        nn.Conv2d(512,512,3,padding = 1),\n",
        "        nn.ReLU(),\n",
        "      ),\n",
        "    ])\n",
        "\n",
        "\n",
        "    self.decoder_blocks = nn.ModuleList([\n",
        "      nn.Sequential(\n",
        "        nn.Conv2d(1024,512,3,padding = 1),\n",
        "        nn.ReLU(),\n",
        "        nn.Conv2d(512,512,3,padding = 1),\n",
        "        nn.ReLU(),\n",
        "      ),\n",
        "      nn.Sequential(\n",
        "        nn.Conv2d(512,256,3,padding = 1),\n",
        "        nn.ReLU(),\n",
        "        nn.Conv2d(256,256,3,padding = 1),\n",
        "        nn.ReLU(),\n",
        "      ),\n",
        "      nn.Sequential(\n",
        "        nn.Conv2d(256,128,3,padding = 1),\n",
        "        nn.ReLU(),\n",
        "        nn.Conv2d(128,128,3,padding = 1),\n",
        "        nn.ReLU(),\n",
        "      ),\n",
        "      nn.Sequential(\n",
        "        nn.Conv2d(128,64,3,padding = 1),\n",
        "        nn.ReLU(),\n",
        "        nn.Conv2d(64,3,3,padding = 1),\n",
        "        nn.ReLU(),\n",
        "      ),\n",
        "      \n",
        "    ])\n",
        "\n",
        "    self.latent_block = nn.Sequential(\n",
        "      nn.Conv2d(512,1024,3,padding = 1),\n",
        "      nn.ReLU(),\n",
        "      nn.Conv2d(1024,1024,3,padding = 1),\n",
        "      nn.ReLU(),\n",
        "    )\n",
        "\n",
        "    self.pooling = nn.MaxPool2d(2,2)\n",
        "    self.up_convolutions = nn.ModuleList([\n",
        "          nn.ConvTranspose2d(1024,512,2,2),\n",
        "          nn.ConvTranspose2d(512,256,2,2),\n",
        "          nn.ConvTranspose2d(256,128,2,2),\n",
        "          nn.ConvTranspose2d(128,64,2,2),\n",
        "    ])\n",
        "    self.final_activation = nn.Softmax(1)\n",
        "\n",
        "  def forward(self,X):\n",
        "    num_blocks = len(self.encoder_blocks)\n",
        "    encoder_outputs = [None]*num_blocks\n",
        "\n",
        "\n",
        "    # left side of the U, pooling the network down\n",
        "    X = self.encoder_blocks[0](X)\n",
        "    encoder_outputs[0] = X\n",
        "    X = self.pooling(X)\n",
        "\n",
        "    for block_index in range(1,num_blocks):\n",
        "      X = self.encoder_blocks[block_index](X)\n",
        "      encoder_outputs[block_index] = X\n",
        "      X = self.pooling(X)\n",
        "\n",
        "    # bottom of the U\n",
        "    X = self.latent_block(X)\n",
        "    \n",
        "    \n",
        "    # right side of the U using ConvTranspose2d to upsample\n",
        "    for block_index in range(num_blocks):\n",
        "      X = self.up_convolutions[block_index](X)\n",
        "      X = torch.cat((X,encoder_outputs[num_blocks-block_index-1]),1)\n",
        "      X = self.decoder_blocks[block_index](X)\n",
        "    \n",
        "    X = self.final_activation(X)\n",
        "    return X\n",
        "\n"
      ],
      "metadata": {
        "id": "NUoQP2YAlBhT"
      },
      "execution_count": null,
      "outputs": []
    },
    {
      "cell_type": "code",
      "source": [
        "model = UNet().to(device)\n",
        "\n",
        "model.load_state_dict(\"./drive/MyDrive/\")"
      ],
      "metadata": {
        "id": "oJpeugpAY-1_"
      },
      "execution_count": null,
      "outputs": []
    },
    {
      "cell_type": "code",
      "source": [
        "pytorch_total_params = sum(p.numel() for p in model.parameters() if p.requires_grad)\n",
        "print(pytorch_total_params)"
      ],
      "metadata": {
        "id": "q-Q4JSQZhNAI"
      },
      "execution_count": null,
      "outputs": []
    },
    {
      "cell_type": "code",
      "source": [
        "with torch.no_grad():\n",
        "  index = 5\n",
        "  \n",
        "  model_output = model(training_data[index][0].unsqueeze(0).to(device)).squeeze().cpu()\n",
        "  \n",
        "  fig = plt.figure(figsize=(8,8))\n",
        "  fig.add_subplot(4,4,1)\n",
        "  plt.imshow(training_data[index][0].movedim(0,2))\n",
        "  plt.axis(\"off\")\n",
        "  plt.title(\"image\")\n",
        "\n",
        "\n",
        "  fig.add_subplot(4,4,2)\n",
        "  plt.imshow(training_data[index][1].movedim(0,2))\n",
        "  plt.axis(\"off\")\n",
        "  plt.title(\"mask\")\n",
        "\n",
        "  fig.add_subplot(4,4,3)\n",
        "  plt.imshow(model_output.movedim(0,2))\n",
        "  plt.axis(\"off\")\n",
        "  plt.title(\"model output\")\n",
        "\n",
        "  fig.add_subplot(4,4,4)\n",
        "  plt.imshow((training_data[index][0]*model_output.round()).movedim(0,2))\n",
        "  plt.axis(\"off\")\n",
        "  plt.title(\"model masked\")\n",
        "\n",
        "  \n",
        "  fig.add_subplot(4,4,5)\n",
        "  plt.imshow((training_data[index][0]*training_data[index][1]).movedim(0,2))\n",
        "  plt.axis(\"off\")\n",
        "  plt.title(\"masked\")\n",
        "  plt.show()\n",
        "  "
      ],
      "metadata": {
        "id": "xvXgtu0nZicY"
      },
      "execution_count": null,
      "outputs": []
    },
    {
      "cell_type": "code",
      "source": [
        "training_loader = DataLoader(training_data,batch_size=32,shuffle=True)"
      ],
      "metadata": {
        "id": "lPuOmvdydnoJ"
      },
      "execution_count": null,
      "outputs": []
    },
    {
      "cell_type": "code",
      "source": [
        "\n",
        "model.to(device)"
      ],
      "metadata": {
        "id": "DzfdDI8HeTHf"
      },
      "execution_count": null,
      "outputs": []
    },
    {
      "cell_type": "code",
      "source": [
        "loss_fn = nn.MSELoss()\n",
        "optimizer = torch.optim.Adam(model.parameters(),lr = 0.0001)"
      ],
      "metadata": {
        "id": "YXkGiF2QVomF"
      },
      "execution_count": null,
      "outputs": []
    },
    {
      "cell_type": "code",
      "source": [],
      "metadata": {
        "id": "p-yQVk2t_d9Y"
      },
      "execution_count": null,
      "outputs": []
    },
    {
      "cell_type": "code",
      "source": [
        "for epoch in range(20):\n",
        "  running_loss = 0.0\n",
        "  for batch_number,(inputs, labels) in enumerate(training_loader):\n",
        "    optimizer.zero_grad()\n",
        "    inputs=inputs.to(device)\n",
        "    labels=labels.to(device).movedim(1,3)\n",
        "    outputs = model(inputs).movedim(1,3)\n",
        "    loss = loss_fn(outputs, labels)\n",
        "    loss.backward()\n",
        "    optimizer.step()\n",
        "    running_loss += loss.item()\n",
        "    if batch_number % 10 == 9:    # print every 10 mini-batches\n",
        "        print('[%d, %5d] loss: %.7f' %\n",
        "              (epoch + 1, batch_number + 1, running_loss / 10))\n",
        "        running_loss = 0.0\n"
      ],
      "metadata": {
        "id": "gljlXmrAeQrr"
      },
      "execution_count": null,
      "outputs": []
    },
    {
      "cell_type": "code",
      "source": [
        "mauly_transform = transforms.Compose(\n",
        "    [\n",
        "      transforms.ToTensor(),\n",
        "      transforms.Resize((128,128)),\n",
        "    ]\n",
        ")"
      ],
      "metadata": {
        "id": "ZHhotHCUXk6k"
      },
      "execution_count": null,
      "outputs": []
    },
    {
      "cell_type": "code",
      "source": [
        "!rm -r \"image/.ipynb_checkpoints\"\n",
        "mauly = datasets.ImageFolder(\"/content/image\",transform = mauly_transform)"
      ],
      "metadata": {
        "id": "xVdGVz2pIDHF"
      },
      "execution_count": null,
      "outputs": []
    },
    {
      "cell_type": "code",
      "source": [
        "with torch.no_grad():\n",
        "  \n",
        "  \n",
        "  model_output = model(mauly[0][0].unsqueeze(0).to(device)).squeeze().cpu()\n",
        "  \n",
        "  fig = plt.figure(figsize=(8,8))\n",
        "  fig.add_subplot(4,4,1)\n",
        "  plt.imshow(mauly[0][0].movedim(0,2))\n",
        "  plt.axis(\"off\")\n",
        "  plt.title(\"image\")\n",
        "\n",
        "\n",
        "  fig.add_subplot(4,4,3)\n",
        "  plt.imshow(model_output.movedim(0,2))\n",
        "  plt.axis(\"off\")\n",
        "  plt.title(\"model output\")\n",
        "\n",
        "  fig.add_subplot(4,4,4)\n",
        "  plt.imshow((mauly[0][0]*model_output.round()).movedim(0,2))\n",
        "  plt.axis(\"off\")\n",
        "  plt.title(\"model masked\")\n",
        "\n",
        "  "
      ],
      "metadata": {
        "id": "KRO6xGsLWNiB"
      },
      "execution_count": null,
      "outputs": []
    },
    {
      "cell_type": "code",
      "source": [],
      "metadata": {
        "id": "h59-s3KyWdmn"
      },
      "execution_count": null,
      "outputs": []
    }
  ]
}